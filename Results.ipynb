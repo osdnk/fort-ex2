{
 "cells": [
  {
   "cell_type": "markdown",
   "metadata": {},
   "source": [
    "# Multiply matrixes"
   ]
  },
  {
   "cell_type": "markdown",
   "metadata": {},
   "source": [
    "## Exercise 1"
   ]
  },
  {
   "cell_type": "code",
   "execution_count": 4,
   "metadata": {},
   "outputs": [
    {
     "name": "stdout",
     "output_type": "stream",
     "text": [
      "rm -f *.o *.mod *.i90 *~ *.tmp *.s *.dbg\n",
      "rm -f -r *.dSYM\n",
      "find . -name \"*genmod*\" -type f -delete\n",
      "rm main main2 test test_with_dot\n",
      "rm: main: No such file or directory\n",
      "rm: main2: No such file or directory\n",
      "rm: test: No such file or directory\n",
      "rm: test_with_dot: No such file or directory\n",
      "make: *** [clean] Error 1\n",
      "gcc define-adder.cpp -o define-header\n"
     ]
    }
   ],
   "source": [
    "!{\"make clean\"}\n",
    "# remove everything to be centrainly sure it's not anything compiled left\n",
    "cmd = \n",
    "!{\"make adder\"}"
   ]
  },
  {
   "cell_type": "markdown",
   "metadata": {},
   "source": [
    " `define-header` is a very strange solution do add macros (`USE_DOT` and `USE_CACHE`) to file. It did wish to use macro to make test as hermetic as possible and then find it impossible to compile test z given f lag. So maybe iy's not the best solution but it works and I would liketo care about it as it's not matter of task"
   ]
  },
  {
   "cell_type": "code",
   "execution_count": 6,
   "metadata": {},
   "outputs": [],
   "source": [
    "!{\"./define-header 0 0\"}"
   ]
  },
  {
   "cell_type": "code",
   "execution_count": 10,
   "metadata": {},
   "outputs": [],
   "source": [
    "silence = !{\"make test\"}\n",
    "# as compilation gives a lot of warnings"
   ]
  },
  {
   "cell_type": "code",
   "execution_count": 11,
   "metadata": {},
   "outputs": [
    {
     "name": "stdout",
     "output_type": "stream",
     "text": [
      "......\r\n",
      "Time:         0.004 seconds\r\n",
      "  \r\n",
      " OK\r\n",
      " (6 tests)\r\n"
     ]
    }
   ],
   "source": [
    "!{\"./test\"}"
   ]
  },
  {
   "cell_type": "markdown",
   "metadata": {},
   "source": [
    "## Exercise 2"
   ]
  },
  {
   "cell_type": "markdown",
   "metadata": {},
   "source": [
    "## use cache, no dot"
   ]
  },
  {
   "cell_type": "code",
   "execution_count": 17,
   "metadata": {},
   "outputs": [
    {
     "name": "stdout",
     "output_type": "stream",
     "text": [
      "......\r\n",
      "Time:         0.004 seconds\r\n",
      "  \r\n",
      " OK\r\n",
      " (6 tests)\r\n"
     ]
    }
   ],
   "source": [
    "silence = !{\"make clean\"}\n",
    "!{\"./define-header 0 1\"}\n",
    "silence = !{\"make test\"}\n",
    "!{\"./test\"}"
   ]
  },
  {
   "cell_type": "markdown",
   "metadata": {},
   "source": [
    "# use dot, not cache"
   ]
  },
  {
   "cell_type": "code",
   "execution_count": 19,
   "metadata": {},
   "outputs": [
    {
     "name": "stdout",
     "output_type": "stream",
     "text": [
      "......\r\n",
      "Time:         0.003 seconds\r\n",
      "  \r\n",
      " OK\r\n",
      " (6 tests)\r\n"
     ]
    }
   ],
   "source": [
    "silence = !{\"make clean\"}\n",
    "!{\"./define-header 0 1\"}\n",
    "silence = !{\"make test\"}\n",
    "!{\"./test\"}"
   ]
  },
  {
   "cell_type": "markdown",
   "metadata": {},
   "source": [
    " # use dot, use cache"
   ]
  },
  {
   "cell_type": "code",
   "execution_count": 25,
   "metadata": {},
   "outputs": [
    {
     "name": "stdout",
     "output_type": "stream",
     "text": [
      "......\r\n",
      "Time:         0.003 seconds\r\n",
      "  \r\n",
      " OK\r\n",
      " (6 tests)\r\n"
     ]
    }
   ],
   "source": [
    "silence = !{\"make clean\"}\n",
    "!{\"./define-header 1 1\"}\n",
    "silence = !{\"make test\"}\n",
    "!{\"./test\"}"
   ]
  },
  {
   "cell_type": "markdown",
   "metadata": {},
   "source": [
    "# Exercise 3"
   ]
  },
  {
   "cell_type": "code",
   "execution_count": 1,
   "metadata": {},
   "outputs": [
    {
     "name": "stdout",
     "output_type": "stream",
     "text": [
      "done!\n"
     ]
    }
   ],
   "source": [
    "silence = !{\"make clean\"}\n",
    "!{\"./define-header 0 0\"}\n",
    "silence = !{\"make main\"}\n",
    "nocachenodot = []\n",
    "for j in range(1, 10):\n",
    "    cmd = f\"./main {2 ** j}\"\n",
    "    r = !{cmd}\n",
    "    nocachenodot.append(float(r[2]))\n",
    "print(\"done!\")"
   ]
  },
  {
   "cell_type": "code",
   "execution_count": 2,
   "metadata": {},
   "outputs": [
    {
     "name": "stdout",
     "output_type": "stream",
     "text": [
      "done!\n"
     ]
    }
   ],
   "source": [
    "silence = !{\"make clean\"}\n",
    "!{\"./define-header 1 0\"}\n",
    "silence = !{\"make main\"}\n",
    "nocachedot = []\n",
    "for j in range(1, 11):\n",
    "    cmd = f\"./main {2 ** j}\"\n",
    "    r = !{cmd}\n",
    "    nocachedot.append(float(r[2]))\n",
    "print(\"done!\")"
   ]
  },
  {
   "cell_type": "code",
   "execution_count": 3,
   "metadata": {},
   "outputs": [
    {
     "name": "stdout",
     "output_type": "stream",
     "text": [
      "done!\n"
     ]
    }
   ],
   "source": [
    "silence = !{\"make clean\"}\n",
    "!{\"./define-header 1 1\"}\n",
    "silence = !{\"make main\"}\n",
    "cachedot = []\n",
    "for j in range(1, 11):\n",
    "    cmd = f\"./main {2 ** j}\"\n",
    "    r = !{cmd}\n",
    "    cachedot.append(float(r[2]))\n",
    "print(\"done!\")"
   ]
  },
  {
   "cell_type": "code",
   "execution_count": 4,
   "metadata": {},
   "outputs": [
    {
     "name": "stdout",
     "output_type": "stream",
     "text": [
      "done!\n"
     ]
    }
   ],
   "source": [
    "silence = !{\"make clean\"}\n",
    "!{\"./define-header 0 1\"}\n",
    "silence = !{\"make main\"}\n",
    "cachenodot = []\n",
    "for j in range(1, 11):\n",
    "    cmd = f\"./main {2 ** j}\"\n",
    "    r = !{cmd}\n",
    "    cachenodot.append(float(r[2]))\n",
    "print(\"done!\")"
   ]
  },
  {
   "cell_type": "code",
   "execution_count": 5,
   "metadata": {},
   "outputs": [
    {
     "name": "stdout",
     "output_type": "stream",
     "text": [
      "done!\n"
     ]
    }
   ],
   "source": [
    "silence = !{\"make clean\"}\n",
    "silence = !{\"make main2\"}\n",
    "mm = []\n",
    "for j in range(1, 12):\n",
    "    cmd = f\"./main2 {2 ** j}\"\n",
    "    r = !{cmd}\n",
    "    mm.append(float(r[0]))\n",
    "print(\"done!\")"
   ]
  },
  {
   "cell_type": "code",
   "execution_count": 6,
   "metadata": {},
   "outputs": [],
   "source": [
    "import matplotlib.pyplot as plt"
   ]
  },
  {
   "cell_type": "code",
   "execution_count": 7,
   "metadata": {},
   "outputs": [],
   "source": [
    "# range for plot\n",
    "ran12 = []\n",
    "for j in range(1, 12):\n",
    "    ran12.append(2 ** j)\n",
    "ran11 = []\n",
    "for j in range(1, 11):\n",
    "    ran11.append(2 ** j)\n",
    "ran10 = []\n",
    "for j in range(1, 10):\n",
    "    ran10.append(2 ** j)"
   ]
  },
  {
   "cell_type": "code",
   "execution_count": 9,
   "metadata": {},
   "outputs": [
    {
     "data": {
      "image/png": "[encoded data removed]",
      "text/plain": [
       "<matplotlib.figure.Figure at 0x10fab5080>"
      ]
     },
     "metadata": {},
     "output_type": "display_data"
    }
   ],
   "source": [
    "axes = plt.gca()\n",
    "#axes.set_ylim([0,0.00000002])\n",
    "plt.scatter(ran12, mm, label='mm')\n",
    "plt.scatter(ran11, cachedot, label='cache dot', s=150)\n",
    "\n",
    "plt.scatter(ran11, nocachedot, label='nocache dot',s=100)\n",
    "\n",
    "plt.scatter(ran11, cachenodot, label='cache nodot', s=40)\n",
    "\n",
    "plt.scatter(ran10, nocachenodot, label='nocache nodot', s=20)\n",
    "\n",
    "l = plt.legend(loc='upper left')\n",
    "l.set_zorder(20)  # put the legend on top\n",
    "plt.show()\n"
   ]
  },
  {
   "cell_type": "code",
   "execution_count": 10,
   "metadata": {},
   "outputs": [],
   "source": [
    "axes = plt.gca()\n",
    "axes.set_yscale('log')\n",
    "axes.set_xscale('log')\n",
    "#axes.set_ylim([0,0.00000002])\n",
    "plt.scatter(ran12, mm, label='mm')\n",
    "plt.scatter(ran11, cachedot, label='cache dot', s=150)\n",
    "\n",
    "plt.scatter(ran11, nocachedot, label='nocache dot',s=100)\n",
    "\n",
    "plt.scatter(ran11, cachenodot, label='cache nodot', s=40)\n",
    "\n",
    "plt.scatter(ran10, nocachenodot, label='nocache nodot', s=20)\n",
    "\n",
    "l = plt.legend(loc='upper left')\n",
    "l.set_zorder(20)  # put the legend on top\n",
    "plt.show()\n"
   ]
  }
 ],
 "metadata": {
  "kernelspec": {
   "display_name": "Python 3",
   "language": "python",
   "name": "python3"
  },
  "language_info": {
   "codemirror_mode": {
    "name": "ipython",
    "version": 3
   },
   "file_extension": ".py",
   "mimetype": "text/x-python",
   "name": "python",
   "nbconvert_exporter": "python",
   "pygments_lexer": "ipython3",
   "version": "3.6.3"
  }
 },
 "nbformat": 4,
 "nbformat_minor": 2
}
